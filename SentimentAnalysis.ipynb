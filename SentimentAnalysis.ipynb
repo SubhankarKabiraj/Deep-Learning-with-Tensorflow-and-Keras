{
  "nbformat": 4,
  "nbformat_minor": 0,
  "metadata": {
    "colab": {
      "name": "Sentiment Analysis.ipynb",
      "provenance": [],
      "collapsed_sections": [],
      "authorship_tag": "ABX9TyPwXWdAW60L7jmp+D2jEHCs",
      "include_colab_link": true
    },
    "kernelspec": {
      "name": "python3",
      "display_name": "Python 3"
    }
  },
  "cells": [
    {
      "cell_type": "markdown",
      "metadata": {
        "id": "view-in-github",
        "colab_type": "text"
      },
      "source": [
        "<a href=\"https://colab.research.google.com/github/SubhankarKabiraj/Deep-Learning-with-Tensorflow-and-Keras/blob/main/SentimentAnalysis.ipynb\" target=\"_parent\"><img src=\"https://colab.research.google.com/assets/colab-badge.svg\" alt=\"Open In Colab\"/></a>"
      ]
    },
    {
      "cell_type": "code",
      "metadata": {
        "id": "yBFhUhlUNvoL"
      },
      "source": [
        "import tensorflow as tf\r\n",
        "from tensorflow.keras import datasets, layers, models, preprocessing\r\n",
        "import tensorflow_datasets as tfds"
      ],
      "execution_count": 1,
      "outputs": []
    },
    {
      "cell_type": "code",
      "metadata": {
        "id": "8Acnwn36N0pQ"
      },
      "source": [
        "max_len = 200\r\n",
        "n_words = 10000\r\n",
        "dim_embedding = 256\r\n",
        "EPOCHS = 20\r\n",
        "BATCH_SIZE = 500\r\n",
        "def load_data():\r\n",
        " # Load data.\r\n",
        " (X_train, y_train), (X_test, y_test) = datasets.imdb.load_data(num_words=n_words)\r\n",
        " # Pad sequences with max_len.\r\n",
        " X_train = preprocessing.sequence.pad_sequences(X_train,maxlen=max_len)\r\n",
        " X_test = preprocessing.sequence.pad_sequences(X_test,maxlen=max_len)\r\n",
        " return (X_train, y_train), (X_test, y_test)"
      ],
      "execution_count": 2,
      "outputs": []
    },
    {
      "cell_type": "code",
      "metadata": {
        "id": "tjzSQFrKN28m"
      },
      "source": [
        ""
      ],
      "execution_count": null,
      "outputs": []
    }
  ]
}