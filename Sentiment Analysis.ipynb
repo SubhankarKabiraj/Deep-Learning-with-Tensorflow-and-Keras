import tensorflow as tf
from tensorflow.keras import datasets, layers, models, preprocessing
import tensorflow_datasets as tfds

max_len = 200
n_words = 10000
dim_embedding = 256
EPOCHS = 20
BATCH_SIZE = 500
def load_data():
 # Load data.
 (X_train, y_train), (X_test, y_test) = datasets.imdb.load_data(num_words=n_words)
 # Pad sequences with max_len.
 X_train = preprocessing.sequence.pad_sequences(X_train,maxlen=max_len)
 X_test = preprocessing.sequence.pad_sequences(X_test,maxlen=max_len)
 return (X_train, y_train), (X_test, y_test)
